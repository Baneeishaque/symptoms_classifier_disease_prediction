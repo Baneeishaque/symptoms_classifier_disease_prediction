{
  "cells": [
    {
      "cell_type": "code",
      "execution_count": 4,
      "metadata": {
        "collapsed": true,
        "pycharm": {
          "is_executing": false
        }
      },
      "outputs": [
        {
          "name": "stdout",
          "text": [
            "CSV Read Completed...\n"
          ],
          "output_type": "stream"
        }
      ],
      "source": "import pandas\nimport json\nimport dataset_preprocess\n\ndataset \u003d dataset_preprocess.get_data_frame()\nprint(\"CSV Read Completed...\")"
    },
    {
      "cell_type": "code",
      "execution_count": 31,
      "metadata": {
        "pycharm": {
          "is_executing": false
        }
      },
      "outputs": [
        {
          "name": "stdout",
          "text": [
            "Training Completed\n"
          ],
          "output_type": "stream"
        }
      ],
      "source": "from sklearn import model_selection\n\n# Split-out validation dataset\narray \u003d dataset.values\nX \u003d array[:, 0:404]\nY \u003d array[:, 404]\n# validation_size \u003d 0.2\nvalidation_size \u003d 0.2\n# validation_size \u003d 0.5\n# validation_size \u003d 0.01\nseed \u003d 7\n\nX_train, X_validation, Y_train, Y_validation \u003d model_selection.train_test_split(X, Y, test_size\u003dvalidation_size,random_state\u003dseed)\n# X_train, X_validation, Y_train, Y_validation \u003d model_selection.train_test_split(X, Y,random_state\u003dseed)\n\n\nprint(\"Training Completed\")\n"
    },
    {
      "cell_type": "code",
      "execution_count": 32,
      "metadata": {
        "pycharm": {
          "is_executing": false
        }
      },
      "outputs": [
        {
          "name": "stdout",
          "text": [
            "LR: 0.000000 (0.000000)\nKNN: 0.000000 (0.000000)\n",
            "CART: 0.000000 (0.000000)\n",
            "NB: 0.000000 (0.000000)\n",
            "SVM: 0.000000 (0.000000)\n"
          ],
          "output_type": "stream"
        },
        {
          "data": {
            "text/plain": "\u003cFigure size 432x288 with 1 Axes\u003e",
            "image/png": "[encoded data removed]"
          },
          "metadata": {
            "needs_background": "light"
          },
          "output_type": "display_data"
        }
      ],
      "source": "from sklearn.discriminant_analysis import LinearDiscriminantAnalysis\nfrom sklearn.linear_model import LogisticRegression\nfrom sklearn.metrics import accuracy_score\nfrom sklearn.metrics import classification_report\nfrom sklearn.metrics import confusion_matrix\nfrom sklearn.naive_bayes import GaussianNB\nfrom sklearn.neighbors import KNeighborsClassifier\nfrom sklearn.svm import SVC\nfrom sklearn.tree import DecisionTreeClassifier\nimport matplotlib.pyplot as plt\n\n# Test options and evaluation metric\nscoring \u003d \u0027accuracy\u0027\n\n# Spot Check Algorithms\nmodels \u003d [(\u0027LR\u0027, LogisticRegression(solver\u003d\u0027liblinear\u0027, multi_class\u003d\u0027ovr\u0027)), \n          # (\u0027LDA\u0027, LinearDiscriminantAnalysis()),\n          (\u0027KNN\u0027, KNeighborsClassifier()), (\u0027CART\u0027, DecisionTreeClassifier()), (\u0027NB\u0027, GaussianNB()),\n          (\u0027SVM\u0027, SVC(gamma\u003d\u0027auto\u0027))]\n\n# evaluate each model in turn\nresults \u003d []\nnames \u003d []\nfor name, model in models:\n    kfold \u003d model_selection.KFold(n_splits\u003d10, random_state\u003dseed)\n    cv_results \u003d model_selection.cross_val_score(model, X_train, Y_train, cv\u003dkfold, scoring\u003dscoring)\n    results.append(cv_results)\n    names.append(name)\n    msg \u003d \"%s: %f (%f)\" % (name, cv_results.mean(), cv_results.std())\n    print(msg)\n\n# Compare Algorithms\nfig \u003d plt.figure()\nfig.suptitle(\u0027Algorithm Comparison\u0027)\nax \u003d fig.add_subplot(111)\nplt.boxplot(results)\nax.set_xticklabels(names)\nplt.show()\n"
    },
    {
      "cell_type": "code",
      "execution_count": 25,
      "outputs": [
        {
          "name": "stdout",
          "text": [
            "0.0\n[[0 0 0 ... 0 0 0]\n [0 0 0 ... 0 0 0]\n [0 0 0 ... 0 0 0]\n ...\n [0 0 0 ... 0 0 0]\n [0 0 1 ... 0 0 0]\n [0 0 0 ... 0 0 0]]\n                                     precision    recall  f1-score   support\n\n                Alzheimer\u0027s disease       0.00      0.00      0.00         0\n                                HIV       0.00      0.00      0.00         0\n           accident cerebrovascular       0.00      0.00      0.00         0\n                            aphasia       0.00      0.00      0.00         1\n                             asthma       0.00      0.00      0.00         1\n                         bacteremia       0.00      0.00      0.00         1\n                   biliary calculus       0.00      0.00      0.00         1\n                   carcinoma breast       0.00      0.00      0.00         1\n                 carcinoma prostate       0.00      0.00      0.00         1\n                     cardiomyopathy       0.00      0.00      0.00         0\n                         cellulitis       0.00      0.00      0.00         1\n                     cholelithiasis       0.00      0.00      0.00         0\n             chronic kidney failure       0.00      0.00      0.00         0\n chronic obstructive airway disease       0.00      0.00      0.00         1\n                            colitis       0.00      0.00      0.00         0\n                          confusion       0.00      0.00      0.00         1\n          coronary arteriosclerosis       0.00      0.00      0.00         1\n             coronary heart disease       0.00      0.00      0.00         0\n               deep vein thrombosis       0.00      0.00      0.00         1\n         degenerative polyarthritis       0.00      0.00      0.00         1\n                           delirium       0.00      0.00      0.00         1\n                           dementia       0.00      0.00      0.00         1\n                         dependence       0.00      0.00      0.00         0\n                  depression mental       0.00      0.00      0.00         0\n                     diverticulitis       0.00      0.00      0.00         0\n                    edema pulmonary       0.00      0.00      0.00         1\n               effusion pericardial       0.00      0.00      0.00         1\n                emphysema pulmonary       0.00      0.00      0.00         1\n                     encephalopathy       0.00      0.00      0.00         0\n                           epilepsy       0.00      0.00      0.00         1\n                          exanthema       0.00      0.00      0.00         0\n                      failure heart       0.00      0.00      0.00         0\n           failure heart congestive       0.00      0.00      0.00         0\n                     failure kidney       0.00      0.00      0.00         0\n                          gastritis       0.00      0.00      0.00         1\n                           glaucoma       0.00      0.00      0.00         0\n                               gout       0.00      0.00      0.00         0\n                        hemiparesis       0.00      0.00      0.00         0\n                          hepatitis       0.00      0.00      0.00         1\n                             hernia       0.00      0.00      0.00         0\n                     hiv infections       0.00      0.00      0.00         1\n                 hyperbilirubinemia       0.00      0.00      0.00         0\n               hypercholesterolemia       0.00      0.00      0.00         1\n             hypertension pulmonary       0.00      0.00      0.00         1\n               hypertensive disease       0.00      0.00      0.00         0\n                       hypoglycemia       0.00      0.00      0.00         1\n                              ileus       0.00      0.00      0.00         1\n                          infection       0.00      0.00      0.00         1\n                           ischemia       0.00      0.00      0.00         0\n              ketoacidosis diabetic       0.00      0.00      0.00         1\n               kidney failure acute       0.00      0.00      0.00         0\n       malignant neoplasm of breast       0.00      0.00      0.00         1\n     malignant neoplasm of prostate       0.00      0.00      0.00         0\n                malignant neoplasms       0.00      0.00      0.00         1\n                malignant neoplasms       0.00      0.00      0.00         0\n                     manic disorder       0.00      0.00      0.00         1\n         mitral valve insufficiency       0.00      0.00      0.00         1\n              myocardial infarction       0.00      0.00      0.00         1\n                           neoplasm       0.00      0.00      0.00         0\n                neoplasm metastasis       0.00      0.00      0.00         1\n                         neuropathy       0.00      0.00      0.00         1\n                        neutropenia       0.00      0.00      0.00         1\n                            obesity       0.00      0.00      0.00         1\n                       osteoporosis       0.00      0.00      0.00         1\n                       pancreatitis       0.00      0.00      0.00         0\n                       pancytopenia       0.00      0.00      0.00         1\n                           paranoia       0.00      0.00      0.00         0\n                 paroxysmal dyspnea       0.00      0.00      0.00         0\npericardial effusion body substance       0.00      0.00      0.00         1\n                          pneumonia       0.00      0.00      0.00         0\n         primary malignant neoplasm       0.00      0.00      0.00         0\n                 psychotic disorder       0.00      0.00      0.00         1\n                     pyelonephritis       0.00      0.00      0.00         0\n              sepsis (invertebrate)       0.00      0.00      0.00         1\n                         septicemia       0.00      0.00      0.00         1\n                 sickle cell anemia       0.00      0.00      0.00         1\n              stenosis aortic valve       0.00      0.00      0.00         0\n                    suicide attempt       0.00      0.00      0.00         0\n                 systemic infection       0.00      0.00      0.00         1\n                  thrombocytopaenia       0.00      0.00      0.00         1\n                           thrombus       0.00      0.00      0.00         1\n              tonic-clonic epilepsy       0.00      0.00      0.00         1\n              tonic-clonic seizures       0.00      0.00      0.00         1\n          transient ischemic attack       0.00      0.00      0.00         1\n                       ulcer peptic       0.00      0.00      0.00         1\n\n                          micro avg       0.00      0.00      0.00        50\n                          macro avg       0.00      0.00      0.00        50\n                       weighted avg       0.00      0.00      0.00        50\n\n"
          ],
          "output_type": "stream"
        },
        {
          "name": "stderr",
          "text": [
            "C:\\ProgramData\\Anaconda3\\lib\\site-packages\\sklearn\\metrics\\classification.py:1143: UndefinedMetricWarning: Precision and F-score are ill-defined and being set to 0.0 in labels with no predicted samples.\n  \u0027precision\u0027, \u0027predicted\u0027, average, warn_for)\nC:\\ProgramData\\Anaconda3\\lib\\site-packages\\sklearn\\metrics\\classification.py:1145: UndefinedMetricWarning: Recall and F-score are ill-defined and being set to 0.0 in labels with no true samples.\n  \u0027recall\u0027, \u0027true\u0027, average, warn_for)\n"
          ],
          "output_type": "stream"
        }
      ],
      "source": "# Make predictions on validation dataset\nknn \u003d LogisticRegression(solver\u003d\u0027liblinear\u0027, multi_class\u003d\u0027ovr\u0027)\nknn.fit(X_train, Y_train)\npredictions \u003d knn.predict(X_validation)\nprint(accuracy_score(Y_validation, predictions))\nprint(confusion_matrix(Y_validation, predictions))\nprint(classification_report(Y_validation, predictions))\n",
      "metadata": {
        "pycharm": {
          "metadata": false,
          "name": "#%% \n",
          "is_executing": false
        }
      }
    },
    {
      "cell_type": "code",
      "execution_count": 26,
      "outputs": [
        {
          "traceback": [
            "\u001b[1;31m---------------------------------------------------------------------------\u001b[0m",
            "\u001b[1;31mValueError\u001b[0m                                Traceback (most recent call last)",
            "\u001b[1;32m\u003cipython-input-26-c5c015fcce30\u003e\u001b[0m in \u001b[0;36m\u003cmodule\u003e\u001b[1;34m\u001b[0m\n\u001b[0;32m      1\u001b[0m \u001b[1;31m# Make predictions on validation dataset\u001b[0m\u001b[1;33m\u001b[0m\u001b[1;33m\u001b[0m\u001b[1;33m\u001b[0m\u001b[0m\n\u001b[0;32m      2\u001b[0m \u001b[0mknn\u001b[0m \u001b[1;33m\u003d\u001b[0m \u001b[0mLinearDiscriminantAnalysis\u001b[0m\u001b[1;33m(\u001b[0m\u001b[1;33m)\u001b[0m\u001b[1;33m\u001b[0m\u001b[1;33m\u001b[0m\u001b[0m\n\u001b[1;32m----\u003e 3\u001b[1;33m \u001b[0mknn\u001b[0m\u001b[1;33m.\u001b[0m\u001b[0mfit\u001b[0m\u001b[1;33m(\u001b[0m\u001b[0mX_train\u001b[0m\u001b[1;33m,\u001b[0m \u001b[0mY_train\u001b[0m\u001b[1;33m)\u001b[0m\u001b[1;33m\u001b[0m\u001b[1;33m\u001b[0m\u001b[0m\n\u001b[0m\u001b[0;32m      4\u001b[0m \u001b[0mpredictions\u001b[0m \u001b[1;33m\u003d\u001b[0m \u001b[0mknn\u001b[0m\u001b[1;33m.\u001b[0m\u001b[0mpredict\u001b[0m\u001b[1;33m(\u001b[0m\u001b[0mX_validation\u001b[0m\u001b[1;33m)\u001b[0m\u001b[1;33m\u001b[0m\u001b[1;33m\u001b[0m\u001b[0m\n\u001b[0;32m      5\u001b[0m \u001b[0mprint\u001b[0m\u001b[1;33m(\u001b[0m\u001b[0maccuracy_score\u001b[0m\u001b[1;33m(\u001b[0m\u001b[0mY_validation\u001b[0m\u001b[1;33m,\u001b[0m \u001b[0mpredictions\u001b[0m\u001b[1;33m)\u001b[0m\u001b[1;33m)\u001b[0m\u001b[1;33m\u001b[0m\u001b[1;33m\u001b[0m\u001b[0m\n",
            "\u001b[1;32mC:\\ProgramData\\Anaconda3\\lib\\site-packages\\sklearn\\discriminant_analysis.py\u001b[0m in \u001b[0;36mfit\u001b[1;34m(self, X, y)\u001b[0m\n\u001b[0;32m    433\u001b[0m \u001b[1;33m\u001b[0m\u001b[0m\n\u001b[0;32m    434\u001b[0m         \u001b[1;32mif\u001b[0m \u001b[0mn_samples\u001b[0m \u001b[1;33m\u003d\u003d\u001b[0m \u001b[0mn_classes\u001b[0m\u001b[1;33m:\u001b[0m\u001b[1;33m\u001b[0m\u001b[1;33m\u001b[0m\u001b[0m\n\u001b[1;32m--\u003e 435\u001b[1;33m             raise ValueError(\"The number of samples must be more \"\n\u001b[0m\u001b[0;32m    436\u001b[0m                              \"than the number of classes.\")\n\u001b[0;32m    437\u001b[0m \u001b[1;33m\u001b[0m\u001b[0m\n",
            "\u001b[1;31mValueError\u001b[0m: The number of samples must be more than the number of classes."
          ],
          "ename": "ValueError",
          "evalue": "The number of samples must be more than the number of classes.",
          "output_type": "error"
        }
      ],
      "source": "# Make predictions on validation dataset\n# knn \u003d LinearDiscriminantAnalysis()\n# knn.fit(X_train, Y_train)\n# predictions \u003d knn.predict(X_validation)\n# print(accuracy_score(Y_validation, predictions))\n# print(confusion_matrix(Y_validation, predictions))\n# print(classification_report(Y_validation, predictions))\n",
      "metadata": {
        "pycharm": {
          "metadata": false,
          "name": "#%%\n",
          "is_executing": false
        }
      }
    },
    {
      "cell_type": "code",
      "execution_count": 27,
      "outputs": [
        {
          "name": "stdout",
          "text": [
            "0.0\n[[0 0 0 ... 0 0 0]\n [0 0 0 ... 0 0 0]\n [0 0 0 ... 0 0 0]\n ...\n [0 1 0 ... 0 0 0]\n [0 1 0 ... 0 0 0]\n [0 0 0 ... 0 0 0]]\n                                     precision    recall  f1-score   support\n\n                                HIV       0.00      0.00      0.00         0\n           accident cerebrovascular       0.00      0.00      0.00         0\n                      affect labile       0.00      0.00      0.00         0\n                      anxiety state       0.00      0.00      0.00         0\n                            aphasia       0.00      0.00      0.00         1\n                          arthritis       0.00      0.00      0.00         0\n                             asthma       0.00      0.00      0.00         1\n                         bacteremia       0.00      0.00      0.00         1\n       benign prostatic hypertrophy       0.00      0.00      0.00         0\n                   biliary calculus       0.00      0.00      0.00         1\n                   carcinoma breast       0.00      0.00      0.00         1\n                 carcinoma prostate       0.00      0.00      0.00         1\n                     cardiomyopathy       0.00      0.00      0.00         0\n                         cellulitis       0.00      0.00      0.00         1\n                     cholelithiasis       0.00      0.00      0.00         0\n chronic obstructive airway disease       0.00      0.00      0.00         1\n                          confusion       0.00      0.00      0.00         1\n          coronary arteriosclerosis       0.00      0.00      0.00         1\n             coronary heart disease       0.00      0.00      0.00         0\n                    decubitus ulcer       0.00      0.00      0.00         0\n               deep vein thrombosis       0.00      0.00      0.00         1\n         degenerative polyarthritis       0.00      0.00      0.00         1\n                           delirium       0.00      0.00      0.00         1\n                           dementia       0.00      0.00      0.00         1\n                    edema pulmonary       0.00      0.00      0.00         1\n               effusion pericardial       0.00      0.00      0.00         1\n                emphysema pulmonary       0.00      0.00      0.00         1\n                           epilepsy       0.00      0.00      0.00         1\n           failure heart congestive       0.00      0.00      0.00         0\n                          gastritis       0.00      0.00      0.00         1\n                          hepatitis       0.00      0.00      0.00         1\n                     hiv infections       0.00      0.00      0.00         1\n               hypercholesterolemia       0.00      0.00      0.00         1\n             hypertension pulmonary       0.00      0.00      0.00         1\n                       hypoglycemia       0.00      0.00      0.00         1\n                              ileus       0.00      0.00      0.00         1\n                          infection       0.00      0.00      0.00         1\n              ketoacidosis diabetic       0.00      0.00      0.00         1\n       malignant neoplasm of breast       0.00      0.00      0.00         1\n                malignant neoplasms       0.00      0.00      0.00         1\n                     manic disorder       0.00      0.00      0.00         1\n         mitral valve insufficiency       0.00      0.00      0.00         1\n              myocardial infarction       0.00      0.00      0.00         1\n                neoplasm metastasis       0.00      0.00      0.00         1\n                         neuropathy       0.00      0.00      0.00         1\n                        neutropenia       0.00      0.00      0.00         1\n                            obesity       0.00      0.00      0.00         1\n                       osteoporosis       0.00      0.00      0.00         1\n                       pancytopenia       0.00      0.00      0.00         1\npericardial effusion body substance       0.00      0.00      0.00         1\n                 psychotic disorder       0.00      0.00      0.00         1\n              sepsis (invertebrate)       0.00      0.00      0.00         1\n                         septicemia       0.00      0.00      0.00         1\n                 sickle cell anemia       0.00      0.00      0.00         1\n                 systemic infection       0.00      0.00      0.00         1\n                  thrombocytopaenia       0.00      0.00      0.00         1\n                           thrombus       0.00      0.00      0.00         1\n              tonic-clonic epilepsy       0.00      0.00      0.00         1\n              tonic-clonic seizures       0.00      0.00      0.00         1\n          transient ischemic attack       0.00      0.00      0.00         1\n                       ulcer peptic       0.00      0.00      0.00         1\n\n                          micro avg       0.00      0.00      0.00        50\n                          macro avg       0.00      0.00      0.00        50\n                       weighted avg       0.00      0.00      0.00        50\n\n"
          ],
          "output_type": "stream"
        },
        {
          "name": "stderr",
          "text": [
            "C:\\ProgramData\\Anaconda3\\lib\\site-packages\\sklearn\\metrics\\classification.py:1143: UndefinedMetricWarning: Precision and F-score are ill-defined and being set to 0.0 in labels with no predicted samples.\n  \u0027precision\u0027, \u0027predicted\u0027, average, warn_for)\nC:\\ProgramData\\Anaconda3\\lib\\site-packages\\sklearn\\metrics\\classification.py:1145: UndefinedMetricWarning: Recall and F-score are ill-defined and being set to 0.0 in labels with no true samples.\n  \u0027recall\u0027, \u0027true\u0027, average, warn_for)\n"
          ],
          "output_type": "stream"
        }
      ],
      "source": "# Make predictions on validation dataset\nknn \u003d KNeighborsClassifier()\nknn.fit(X_train, Y_train)\npredictions \u003d knn.predict(X_validation)\nprint(accuracy_score(Y_validation, predictions))\nprint(confusion_matrix(Y_validation, predictions))\nprint(classification_report(Y_validation, predictions))\n",
      "metadata": {
        "pycharm": {
          "metadata": false,
          "name": "#%%\n",
          "is_executing": false
        }
      }
    },
    {
      "cell_type": "code",
      "execution_count": 28,
      "outputs": [
        {
          "name": "stdout",
          "text": [
            "0.0\n[[0 0 0 ... 0 0 0]\n [0 0 0 ... 0 0 0]\n [0 0 0 ... 0 0 0]\n ...\n [0 0 0 ... 0 0 0]\n [0 0 0 ... 0 0 0]\n [0 1 0 ... 0 0 0]]\n                                     precision    recall  f1-score   support\n\n                                HIV       0.00      0.00      0.00         0\n           accident cerebrovascular       0.00      0.00      0.00         0\n                            aphasia       0.00      0.00      0.00         1\n                          arthritis       0.00      0.00      0.00         0\n                             asthma       0.00      0.00      0.00         1\n                         bacteremia       0.00      0.00      0.00         1\n                   biliary calculus       0.00      0.00      0.00         1\n                   carcinoma breast       0.00      0.00      0.00         1\n                  carcinoma of lung       0.00      0.00      0.00         0\n                 carcinoma prostate       0.00      0.00      0.00         1\n                         cellulitis       0.00      0.00      0.00         1\n                     cholelithiasis       0.00      0.00      0.00         0\n chronic obstructive airway disease       0.00      0.00      0.00         1\n                          confusion       0.00      0.00      0.00         1\n          coronary arteriosclerosis       0.00      0.00      0.00         1\n             coronary heart disease       0.00      0.00      0.00         0\n               deep vein thrombosis       0.00      0.00      0.00         1\n         degenerative polyarthritis       0.00      0.00      0.00         1\n                           delirium       0.00      0.00      0.00         1\n                           delusion       0.00      0.00      0.00         0\n                           dementia       0.00      0.00      0.00         1\n                  depression mental       0.00      0.00      0.00         0\n                    edema pulmonary       0.00      0.00      0.00         1\n               effusion pericardial       0.00      0.00      0.00         1\n                emphysema pulmonary       0.00      0.00      0.00         1\n                     encephalopathy       0.00      0.00      0.00         0\n                           epilepsy       0.00      0.00      0.00         1\n                          gastritis       0.00      0.00      0.00         1\n                               gout       0.00      0.00      0.00         0\n                        hemiparesis       0.00      0.00      0.00         0\n                          hepatitis       0.00      0.00      0.00         1\n                        hepatitis B       0.00      0.00      0.00         0\n                        hepatitis C       0.00      0.00      0.00         0\n                      hernia hiatal       0.00      0.00      0.00         0\n                     hiv infections       0.00      0.00      0.00         1\n               hypercholesterolemia       0.00      0.00      0.00         1\n                      hyperglycemia       0.00      0.00      0.00         0\n             hypertension pulmonary       0.00      0.00      0.00         1\n                       hypoglycemia       0.00      0.00      0.00         1\n                              ileus       0.00      0.00      0.00         1\n                          infection       0.00      0.00      0.00         1\n              ketoacidosis diabetic       0.00      0.00      0.00         1\n                 lymphatic diseases       0.00      0.00      0.00         0\n       malignant neoplasm of breast       0.00      0.00      0.00         1\n     malignant neoplasm of prostate       0.00      0.00      0.00         0\n                malignant neoplasms       0.00      0.00      0.00         1\n                malignant neoplasms       0.00      0.00      0.00         0\n                     manic disorder       0.00      0.00      0.00         1\n                           melanoma       0.00      0.00      0.00         0\n         mitral valve insufficiency       0.00      0.00      0.00         1\n              myocardial infarction       0.00      0.00      0.00         1\n                neoplasm metastasis       0.00      0.00      0.00         1\n                         neuropathy       0.00      0.00      0.00         1\n                        neutropenia       0.00      0.00      0.00         1\n                            obesity       0.00      0.00      0.00         1\n                     obesity morbid       0.00      0.00      0.00         0\n                       osteoporosis       0.00      0.00      0.00         1\n                     overload fluid       0.00      0.00      0.00         0\n                       pancytopenia       0.00      0.00      0.00         1\n                  parkinson disease       0.00      0.00      0.00         0\npericardial effusion body substance       0.00      0.00      0.00         1\n        peripheral vascular disease       0.00      0.00      0.00         0\n                          pneumonia       0.00      0.00      0.00         0\n         primary malignant neoplasm       0.00      0.00      0.00         0\n                 psychotic disorder       0.00      0.00      0.00         1\n              sepsis (invertebrate)       0.00      0.00      0.00         1\n                         septicemia       0.00      0.00      0.00         1\n                 sickle cell anemia       0.00      0.00      0.00         1\n                    suicide attempt       0.00      0.00      0.00         0\n                 systemic infection       0.00      0.00      0.00         1\n                  thrombocytopaenia       0.00      0.00      0.00         1\n                           thrombus       0.00      0.00      0.00         1\n              tonic-clonic epilepsy       0.00      0.00      0.00         1\n              tonic-clonic seizures       0.00      0.00      0.00         1\n          transient ischemic attack       0.00      0.00      0.00         1\n                       ulcer peptic       0.00      0.00      0.00         1\n\n                          micro avg       0.00      0.00      0.00        50\n                          macro avg       0.00      0.00      0.00        50\n                       weighted avg       0.00      0.00      0.00        50\n\n"
          ],
          "output_type": "stream"
        },
        {
          "name": "stderr",
          "text": [
            "C:\\ProgramData\\Anaconda3\\lib\\site-packages\\sklearn\\metrics\\classification.py:1143: UndefinedMetricWarning: Precision and F-score are ill-defined and being set to 0.0 in labels with no predicted samples.\n  \u0027precision\u0027, \u0027predicted\u0027, average, warn_for)\nC:\\ProgramData\\Anaconda3\\lib\\site-packages\\sklearn\\metrics\\classification.py:1145: UndefinedMetricWarning: Recall and F-score are ill-defined and being set to 0.0 in labels with no true samples.\n  \u0027recall\u0027, \u0027true\u0027, average, warn_for)\n"
          ],
          "output_type": "stream"
        }
      ],
      "source": "# Make predictions on validation dataset\nknn \u003d DecisionTreeClassifier()\nknn.fit(X_train, Y_train)\npredictions \u003d knn.predict(X_validation)\nprint(accuracy_score(Y_validation, predictions))\nprint(confusion_matrix(Y_validation, predictions))\nprint(classification_report(Y_validation, predictions))\n",
      "metadata": {
        "pycharm": {
          "metadata": false,
          "name": "#%%\n",
          "is_executing": false
        }
      }
    },
    {
      "cell_type": "code",
      "execution_count": 29,
      "outputs": [
        {
          "name": "stdout",
          "text": [
            "0.0\n[[0 0 0 ... 0 0 0]\n [0 0 0 ... 0 0 0]\n [0 0 0 ... 0 0 0]\n ...\n [0 0 0 ... 0 0 0]\n [0 1 0 ... 0 0 0]\n [0 0 0 ... 0 0 0]]\n                                     precision    recall  f1-score   support\n\n                                HIV       0.00      0.00      0.00         0\n           accident cerebrovascular       0.00      0.00      0.00         0\n                            aphasia       0.00      0.00      0.00         1\n                             asthma       0.00      0.00      0.00         1\n                         bacteremia       0.00      0.00      0.00         1\n                   biliary calculus       0.00      0.00      0.00         1\n                   carcinoma breast       0.00      0.00      0.00         1\n                 carcinoma prostate       0.00      0.00      0.00         1\n                     cardiomyopathy       0.00      0.00      0.00         0\n                         cellulitis       0.00      0.00      0.00         1\n                     cholelithiasis       0.00      0.00      0.00         0\n chronic obstructive airway disease       0.00      0.00      0.00         1\n                          confusion       0.00      0.00      0.00         1\n          coronary arteriosclerosis       0.00      0.00      0.00         1\n             coronary heart disease       0.00      0.00      0.00         0\n                    decubitus ulcer       0.00      0.00      0.00         0\n               deep vein thrombosis       0.00      0.00      0.00         1\n         degenerative polyarthritis       0.00      0.00      0.00         1\n                           delirium       0.00      0.00      0.00         1\n                           dementia       0.00      0.00      0.00         1\n                  depression mental       0.00      0.00      0.00         0\n                    edema pulmonary       0.00      0.00      0.00         1\n               effusion pericardial       0.00      0.00      0.00         1\n                emphysema pulmonary       0.00      0.00      0.00         1\n                           epilepsy       0.00      0.00      0.00         1\n           failure heart congestive       0.00      0.00      0.00         0\n                          gastritis       0.00      0.00      0.00         1\n                           glaucoma       0.00      0.00      0.00         0\n                               gout       0.00      0.00      0.00         0\n                          hepatitis       0.00      0.00      0.00         1\n                     hiv infections       0.00      0.00      0.00         1\n                 hyperbilirubinemia       0.00      0.00      0.00         0\n               hypercholesterolemia       0.00      0.00      0.00         1\n             hypertension pulmonary       0.00      0.00      0.00         1\n                       hypoglycemia       0.00      0.00      0.00         1\n                              ileus       0.00      0.00      0.00         1\n                          infection       0.00      0.00      0.00         1\n                           ischemia       0.00      0.00      0.00         0\n              ketoacidosis diabetic       0.00      0.00      0.00         1\n                     kidney disease       0.00      0.00      0.00         0\n       malignant neoplasm of breast       0.00      0.00      0.00         1\n     malignant neoplasm of prostate       0.00      0.00      0.00         0\n                malignant neoplasms       0.00      0.00      0.00         1\n                     manic disorder       0.00      0.00      0.00         1\n         mitral valve insufficiency       0.00      0.00      0.00         1\n              myocardial infarction       0.00      0.00      0.00         1\n                           neoplasm       0.00      0.00      0.00         0\n                neoplasm metastasis       0.00      0.00      0.00         1\n                         neuropathy       0.00      0.00      0.00         1\n                        neutropenia       0.00      0.00      0.00         1\n                            obesity       0.00      0.00      0.00         1\n                      osteomyelitis       0.00      0.00      0.00         0\n                       osteoporosis       0.00      0.00      0.00         1\n                       pancreatitis       0.00      0.00      0.00         0\n                       pancytopenia       0.00      0.00      0.00         1\npericardial effusion body substance       0.00      0.00      0.00         1\n         primary malignant neoplasm       0.00      0.00      0.00         0\n                 psychotic disorder       0.00      0.00      0.00         1\n                      schizophrenia       0.00      0.00      0.00         0\n              sepsis (invertebrate)       0.00      0.00      0.00         1\n                         septicemia       0.00      0.00      0.00         1\n                 sickle cell anemia       0.00      0.00      0.00         1\n                 systemic infection       0.00      0.00      0.00         1\n                  thrombocytopaenia       0.00      0.00      0.00         1\n                           thrombus       0.00      0.00      0.00         1\n              tonic-clonic epilepsy       0.00      0.00      0.00         1\n              tonic-clonic seizures       0.00      0.00      0.00         1\n          transient ischemic attack       0.00      0.00      0.00         1\n                       ulcer peptic       0.00      0.00      0.00         1\n\n                          micro avg       0.00      0.00      0.00        50\n                          macro avg       0.00      0.00      0.00        50\n                       weighted avg       0.00      0.00      0.00        50\n\n"
          ],
          "output_type": "stream"
        },
        {
          "name": "stderr",
          "text": [
            "C:\\ProgramData\\Anaconda3\\lib\\site-packages\\sklearn\\metrics\\classification.py:1143: UndefinedMetricWarning: Precision and F-score are ill-defined and being set to 0.0 in labels with no predicted samples.\n  \u0027precision\u0027, \u0027predicted\u0027, average, warn_for)\nC:\\ProgramData\\Anaconda3\\lib\\site-packages\\sklearn\\metrics\\classification.py:1145: UndefinedMetricWarning: Recall and F-score are ill-defined and being set to 0.0 in labels with no true samples.\n  \u0027recall\u0027, \u0027true\u0027, average, warn_for)\n"
          ],
          "output_type": "stream"
        }
      ],
      "source": "# Make predictions on validation dataset\nknn \u003d GaussianNB()\nknn.fit(X_train, Y_train)\npredictions \u003d knn.predict(X_validation)\nprint(accuracy_score(Y_validation, predictions))\nprint(confusion_matrix(Y_validation, predictions))\nprint(classification_report(Y_validation, predictions))\n",
      "metadata": {
        "pycharm": {
          "metadata": false,
          "name": "#%%\n",
          "is_executing": false
        }
      }
    },
    {
      "cell_type": "code",
      "execution_count": 30,
      "outputs": [
        {
          "name": "stdout",
          "text": [
            "0.0\n[[0 0 0 ... 0 0 0]\n [0 0 0 ... 0 0 0]\n [0 0 0 ... 0 0 0]\n ...\n [0 0 0 ... 0 0 0]\n [1 0 0 ... 0 0 0]\n [0 0 0 ... 0 0 0]]\n                                     precision    recall  f1-score   support\n\n           accident cerebrovascular       0.00      0.00      0.00         0\nacquired immuno-deficiency syndrome       0.00      0.00      0.00         0\n                            aphasia       0.00      0.00      0.00         1\n                             asthma       0.00      0.00      0.00         1\n                         bacteremia       0.00      0.00      0.00         1\n                   biliary calculus       0.00      0.00      0.00         1\n                   carcinoma breast       0.00      0.00      0.00         1\n                 carcinoma prostate       0.00      0.00      0.00         1\n                     cardiomyopathy       0.00      0.00      0.00         0\n                         cellulitis       0.00      0.00      0.00         1\n                     cholelithiasis       0.00      0.00      0.00         0\n chronic obstructive airway disease       0.00      0.00      0.00         1\n                          confusion       0.00      0.00      0.00         1\n          coronary arteriosclerosis       0.00      0.00      0.00         1\n             coronary heart disease       0.00      0.00      0.00         0\n                    decubitus ulcer       0.00      0.00      0.00         0\n               deep vein thrombosis       0.00      0.00      0.00         1\n         degenerative polyarthritis       0.00      0.00      0.00         1\n                           delirium       0.00      0.00      0.00         1\n                           dementia       0.00      0.00      0.00         1\n                depressive disorder       0.00      0.00      0.00         0\n                    edema pulmonary       0.00      0.00      0.00         1\n               effusion pericardial       0.00      0.00      0.00         1\n                emphysema pulmonary       0.00      0.00      0.00         1\n                           epilepsy       0.00      0.00      0.00         1\n           failure heart congestive       0.00      0.00      0.00         0\n                          gastritis       0.00      0.00      0.00         1\n                           glaucoma       0.00      0.00      0.00         0\n                               gout       0.00      0.00      0.00         0\n                          hepatitis       0.00      0.00      0.00         1\n                     hiv infections       0.00      0.00      0.00         1\n                 hyperbilirubinemia       0.00      0.00      0.00         0\n               hypercholesterolemia       0.00      0.00      0.00         1\n             hypertension pulmonary       0.00      0.00      0.00         1\n                       hypoglycemia       0.00      0.00      0.00         1\n                              ileus       0.00      0.00      0.00         1\n                          infection       0.00      0.00      0.00         1\n              ketoacidosis diabetic       0.00      0.00      0.00         1\n                     kidney disease       0.00      0.00      0.00         0\n       malignant neoplasm of breast       0.00      0.00      0.00         1\n     malignant neoplasm of prostate       0.00      0.00      0.00         0\n                malignant neoplasms       0.00      0.00      0.00         1\n                     manic disorder       0.00      0.00      0.00         1\n         mitral valve insufficiency       0.00      0.00      0.00         1\n              myocardial infarction       0.00      0.00      0.00         1\n                           neoplasm       0.00      0.00      0.00         0\n                neoplasm metastasis       0.00      0.00      0.00         1\n                         neuropathy       0.00      0.00      0.00         1\n                        neutropenia       0.00      0.00      0.00         1\n                            obesity       0.00      0.00      0.00         1\n                      osteomyelitis       0.00      0.00      0.00         0\n                       osteoporosis       0.00      0.00      0.00         1\n                       pancreatitis       0.00      0.00      0.00         0\n                       pancytopenia       0.00      0.00      0.00         1\npericardial effusion body substance       0.00      0.00      0.00         1\n         primary malignant neoplasm       0.00      0.00      0.00         0\n                 psychotic disorder       0.00      0.00      0.00         1\n                      schizophrenia       0.00      0.00      0.00         0\n              sepsis (invertebrate)       0.00      0.00      0.00         1\n                         septicemia       0.00      0.00      0.00         1\n                 sickle cell anemia       0.00      0.00      0.00         1\n              stenosis aortic valve       0.00      0.00      0.00         0\n                 systemic infection       0.00      0.00      0.00         1\n                  thrombocytopaenia       0.00      0.00      0.00         1\n                           thrombus       0.00      0.00      0.00         1\n              tonic-clonic epilepsy       0.00      0.00      0.00         1\n              tonic-clonic seizures       0.00      0.00      0.00         1\n          transient ischemic attack       0.00      0.00      0.00         1\n                       ulcer peptic       0.00      0.00      0.00         1\n\n                          micro avg       0.00      0.00      0.00        50\n                          macro avg       0.00      0.00      0.00        50\n                       weighted avg       0.00      0.00      0.00        50\n\n"
          ],
          "output_type": "stream"
        },
        {
          "name": "stderr",
          "text": [
            "C:\\ProgramData\\Anaconda3\\lib\\site-packages\\sklearn\\metrics\\classification.py:1143: UndefinedMetricWarning: Precision and F-score are ill-defined and being set to 0.0 in labels with no predicted samples.\n  \u0027precision\u0027, \u0027predicted\u0027, average, warn_for)\nC:\\ProgramData\\Anaconda3\\lib\\site-packages\\sklearn\\metrics\\classification.py:1145: UndefinedMetricWarning: Recall and F-score are ill-defined and being set to 0.0 in labels with no true samples.\n  \u0027recall\u0027, \u0027true\u0027, average, warn_for)\n"
          ],
          "output_type": "stream"
        }
      ],
      "source": "# Make predictions on validation dataset\nknn \u003d SVC(gamma\u003d\u0027auto\u0027)\nknn.fit(X_train, Y_train)\npredictions \u003d knn.predict(X_validation)\nprint(accuracy_score(Y_validation, predictions))\nprint(confusion_matrix(Y_validation, predictions))\nprint(classification_report(Y_validation, predictions))\n",
      "metadata": {
        "pycharm": {
          "metadata": false,
          "name": "#%%\n",
          "is_executing": false
        }
      }
    },
    {
      "cell_type": "code",
      "execution_count": 34,
      "outputs": [
        {
          "name": "stdout",
          "text": [
            "Dump Completed...\n"
          ],
          "output_type": "stream"
        }
      ],
      "source": "import pickle\nknn \u003d KNeighborsClassifier()\nknn.fit(X_train, Y_train)\n\n# save the model to disk\npickle.dump(knn, open(\u0027models/pickle_Disease-Symptom_Knowledge_Database_finalised_model.sav\u0027, \u0027wb\u0027))\nprint(\"Dump Completed...\")\n",
      "metadata": {
        "pycharm": {
          "metadata": false,
          "name": "#%%\n",
          "is_executing": false
        }
      }
    }
  ],
  "metadata": {
    "kernelspec": {
      "display_name": "Python 2",
      "language": "python",
      "name": "python2"
    },
    "language_info": {
      "codemirror_mode": {
        "name": "ipython",
        "version": 2
      },
      "file_extension": ".py",
      "mimetype": "text/x-python",
      "name": "python",
      "nbconvert_exporter": "python",
      "pygments_lexer": "ipython2",
      "version": "2.7.6"
    }
  },
  "nbformat": 4,
  "nbformat_minor": 0
}