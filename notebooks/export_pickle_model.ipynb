{
  "cells": [
    {
      "cell_type": "code",
      "execution_count": 4,
      "metadata": {
        "collapsed": true,
        "pycharm": {
          "is_executing": false
        }
      },
      "outputs": [
        {
          "name": "stdout",
          "text": [
            "CSV Read Completed...\n"
          ],
          "output_type": "stream"
        }
      ],
      "source": "import pandas\nimport json\n\n# TODO : Make Function - get_data_frame_from_csv(url,column_names)\n\n\ndef get_data_frame():\n    url \u003d \"data/Disease-Symptom_Knowledge_Database.csv\"\n    with open(\u0027data/symptoms.json\u0027) as json_file:\n        symptoms_json \u003d json.load(json_file)\n    column_names \u003d symptoms_json + [\u0027class\u0027]\n    return pandas.read_csv(url, names\u003dcolumn_names, engine\u003d\u0027python\u0027)\n\n\ndataset \u003d get_data_frame()\nprint(\"CSV Read Completed...\")"
    },
    {
      "cell_type": "code",
      "execution_count": 6,
      "metadata": {
        "pycharm": {
          "is_executing": false
        }
      },
      "outputs": [
        {
          "name": "stdout",
          "text": [
            "Training Completed\n"
          ],
          "output_type": "stream"
        }
      ],
      "source": "from sklearn import model_selection\n\n# Split-out validation dataset\narray \u003d dataset.values\nX \u003d array[:, 0:4]\nY \u003d array[:, 4]\nvalidation_size \u003d 0.20\nseed \u003d 7\n\nX_train, X_validation, Y_train, Y_validation \u003d model_selection.train_test_split(X, Y, test_size\u003dvalidation_size,random_state\u003dseed)\n\nprint(\"Training Completed\")\n"
    },
    {
      "cell_type": "code",
      "execution_count": null,
      "metadata": {
        "pycharm": {}
      },
      "outputs": [],
      "source": []
    }
  ],
  "metadata": {
    "kernelspec": {
      "display_name": "Python 2",
      "language": "python",
      "name": "python2"
    },
    "language_info": {
      "codemirror_mode": {
        "name": "ipython",
        "version": 2
      },
      "file_extension": ".py",
      "mimetype": "text/x-python",
      "name": "python",
      "nbconvert_exporter": "python",
      "pygments_lexer": "ipython2",
      "version": "2.7.6"
    }
  },
  "nbformat": 4,
  "nbformat_minor": 0
}